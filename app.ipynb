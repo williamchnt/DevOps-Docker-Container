{
 "cells": [
  {
   "cell_type": "code",
   "execution_count": 1,
   "metadata": {},
   "outputs": [],
   "source": [
    "from requests import Request, Session, Response"
   ]
  },
  {
   "cell_type": "code",
   "execution_count": 4,
   "metadata": {},
   "outputs": [],
   "source": [
    "def get_weather(lat, lon):\n",
    "    url = 'http://api.openweathermap.org/data/2.5/weather'\n",
    "    params = {\n",
    "        'lat': lat,\n",
    "        'lon': lon,\n",
    "        'appid': '240aa650f4db4e154a07d0459c30a347'\n",
    "    }\n",
    "    s = Session()\n",
    "    req = Request('GET', url, params=params)\n",
    "    prepped = req.prepare()\n",
    "    resp = s.send(prepped)\n",
    "    return resp.json()"
   ]
  },
  {
   "cell_type": "code",
   "execution_count": 5,
   "metadata": {},
   "outputs": [
    {
     "data": {
      "text/plain": [
       "{'coord': {'lon': 126.9778, 'lat': 37.5683},\n",
       " 'weather': [{'id': 801,\n",
       "   'main': 'Clouds',\n",
       "   'description': 'few clouds',\n",
       "   'icon': '02d'}],\n",
       " 'base': 'stations',\n",
       " 'main': {'temp': 303.67,\n",
       "  'feels_like': 303.46,\n",
       "  'temp_min': 294.84,\n",
       "  'temp_max': 305.81,\n",
       "  'pressure': 1008,\n",
       "  'humidity': 40},\n",
       " 'visibility': 7000,\n",
       " 'wind': {'speed': 4.12, 'deg': 260},\n",
       " 'clouds': {'all': 20},\n",
       " 'dt': 1654242337,\n",
       " 'sys': {'type': 1,\n",
       "  'id': 8105,\n",
       "  'country': 'KR',\n",
       "  'sunrise': 1654200727,\n",
       "  'sunset': 1654253312},\n",
       " 'timezone': 32400,\n",
       " 'id': 1835848,\n",
       " 'name': 'Seoul',\n",
       " 'cod': 200}"
      ]
     },
     "execution_count": 5,
     "metadata": {},
     "output_type": "execute_result"
    }
   ],
   "source": [
    "get_weather(37.566535, 126.9779692)"
   ]
  },
  {
   "cell_type": "code",
   "execution_count": null,
   "metadata": {},
   "outputs": [],
   "source": [
    "if __name__ == \"__main__\":\n",
    "    lat = 37.566535\n",
    "    lon = 126.9779692\n",
    "    get_weather(lat,lon)"
   ]
  }
 ],
 "metadata": {
  "interpreter": {
   "hash": "3cfeee232cfcfd50f812445e956245112ee929d326459510f213d68d2ca5f302"
  },
  "kernelspec": {
   "display_name": "Python 3.7.11 ('course')",
   "language": "python",
   "name": "python3"
  },
  "language_info": {
   "codemirror_mode": {
    "name": "ipython",
    "version": 3
   },
   "file_extension": ".py",
   "mimetype": "text/x-python",
   "name": "python",
   "nbconvert_exporter": "python",
   "pygments_lexer": "ipython3",
   "version": "3.7.11"
  },
  "orig_nbformat": 4
 },
 "nbformat": 4,
 "nbformat_minor": 2
}
