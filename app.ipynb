{
 "cells": [
  {
   "cell_type": "code",
   "execution_count": 1,
   "metadata": {},
   "outputs": [],
   "source": [
    "from requests import Request, Session, Response"
   ]
  },
  {
   "cell_type": "code",
   "execution_count": 7,
   "metadata": {},
   "outputs": [],
   "source": [
    "def get_weather(lat, lon,key):\n",
    "    url = 'http://api.openweathermap.org/data/2.5/weather'\n",
    "    params = {\n",
    "        'lat': lat,\n",
    "        'lon': lon,\n",
    "        'appid': key\n",
    "    }\n",
    "    s = Session()\n",
    "    req = Request('GET', url, params=params)\n",
    "    prepped = req.prepare()\n",
    "    resp = s.send(prepped)\n",
    "    return resp.json()"
   ]
  }
 ],
 "metadata": {
  "interpreter": {
   "hash": "3cfeee232cfcfd50f812445e956245112ee929d326459510f213d68d2ca5f302"
  },
  "kernelspec": {
   "display_name": "Python 3.7.11 ('course')",
   "language": "python",
   "name": "python3"
  },
  "language_info": {
   "codemirror_mode": {
    "name": "ipython",
    "version": 3
   },
   "file_extension": ".py",
   "mimetype": "text/x-python",
   "name": "python",
   "nbconvert_exporter": "python",
   "pygments_lexer": "ipython3",
   "version": "3.7.11"
  },
  "orig_nbformat": 4
 },
 "nbformat": 4,
 "nbformat_minor": 2
}
