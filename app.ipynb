{
 "cells": [
  {
   "cell_type": "code",
   "execution_count": 1,
   "metadata": {},
   "outputs": [],
   "source": [
    "from requests import Request, Session, Response"
   ]
  },
  {
   "cell_type": "code",
   "execution_count": 7,
   "metadata": {},
   "outputs": [],
   "source": [
    "def get_weather(lat, lon):\n",
    "    url = 'http://api.openweathermap.org/data/2.5/weather'\n",
    "    params = {\n",
    "        'lat': lat,\n",
    "        'lon': lon,\n",
    "        'appid': '7fbae86e8ab4bd446287269c36407903'\n",
    "    }\n",
    "    s = Session()\n",
    "    req = Request('GET', url, params=params)\n",
    "    prepped = req.prepare()\n",
    "    resp = s.send(prepped)\n",
    "    return resp.json()"
   ]
  },
  {
   "cell_type": "code",
   "execution_count": 8,
   "metadata": {},
   "outputs": [
    {
     "data": {
      "text/plain": [
       "{'coord': {'lon': 126.978, 'lat': 37.5665},\n",
       " 'weather': [{'id': 804,\n",
       "   'main': 'Clouds',\n",
       "   'description': 'overcast clouds',\n",
       "   'icon': '04d'}],\n",
       " 'base': 'stations',\n",
       " 'main': {'temp': 305.81,\n",
       "  'feels_like': 306.02,\n",
       "  'temp_min': 294.84,\n",
       "  'temp_max': 305.81,\n",
       "  'pressure': 1008,\n",
       "  'humidity': 38,\n",
       "  'sea_level': 1008,\n",
       "  'grnd_level': 1002},\n",
       " 'visibility': 10000,\n",
       " 'wind': {'speed': 5.07, 'deg': 267, 'gust': 3.99},\n",
       " 'clouds': {'all': 100},\n",
       " 'dt': 1654244100,\n",
       " 'sys': {'type': 1,\n",
       "  'id': 5509,\n",
       "  'country': 'KR',\n",
       "  'sunrise': 1654200727,\n",
       "  'sunset': 1654253312},\n",
       " 'timezone': 32400,\n",
       " 'id': 1835848,\n",
       " 'name': 'Seoul',\n",
       " 'cod': 200}"
      ]
     },
     "execution_count": 8,
     "metadata": {},
     "output_type": "execute_result"
    }
   ],
   "source": [
    "get_weather(37.566535, 126.9779692)"
   ]
  },
  {
   "cell_type": "code",
   "execution_count": 6,
   "metadata": {},
   "outputs": [],
   "source": [
    "if __name__ == \"__main__\":\n",
    "    lat = 37.566535\n",
    "    lon = 126.9779692\n",
    "    get_weather(lat,lon)"
   ]
  }
 ],
 "metadata": {
  "interpreter": {
   "hash": "3cfeee232cfcfd50f812445e956245112ee929d326459510f213d68d2ca5f302"
  },
  "kernelspec": {
   "display_name": "Python 3.7.11 ('course')",
   "language": "python",
   "name": "python3"
  },
  "language_info": {
   "codemirror_mode": {
    "name": "ipython",
    "version": 3
   },
   "file_extension": ".py",
   "mimetype": "text/x-python",
   "name": "python",
   "nbconvert_exporter": "python",
   "pygments_lexer": "ipython3",
   "version": "3.7.11"
  },
  "orig_nbformat": 4
 },
 "nbformat": 4,
 "nbformat_minor": 2
}
